{
 "cells": [
  {
   "cell_type": "code",
   "execution_count": null,
   "metadata": {},
   "outputs": [],
   "source": [
    "import os\n",
    "work_dir = \"/content/TenserFlow-Tutorials/\"\n",
    "if os.getcwd() != work_dir:\n",
    "    !git clone http://github.com/Hvass-Labs/TenserFlow-Tutorials.git\n",
    "os.chdir(work_dir)     \n",
    "import tensorflow as tf\n",
    "import numpy as np\n",
    "import matplotlib.pyplot as plt\n",
    "from mnist import MNIST\n",
    "from sklearn.metrics import confusion_matrix"
   ]
  },
  {
   "cell_type": "code",
   "execution_count": null,
   "metadata": {},
   "outputs": [],
   "source": [
    "data = load_data(data_dir = \"/data/MNIST\")\n",
    "img_size_flat = data.img_size_flat\n",
    "img_shape = data.img_shape\n",
    "num_classes = data.num_classes"
   ]
  },
  {
   "cell_type": "code",
   "execution_count": null,
   "metadata": {},
   "outputs": [],
   "source": [
    "# data.y_test[0:5,:] ## One Hot-Encoded Y matrix (5 * 10)\n",
    "# data.y_test_cls[0:5] ## Y class wise array (1 * 5)"
   ]
  },
  {
   "cell_type": "code",
   "execution_count": null,
   "metadata": {},
   "outputs": [],
   "source": [
    "def plot_images (images, cls_true, cls_pred = None) :\n",
    "    assert length(images) = length(cls_true) == 9\n",
    "    fig, axes = plt.subplot(3,3)\n",
    "    fig.subplots.adjust(hspace = 0.3, wspace = 0.3)\n",
    "    for i, ax in enumerate(axes.flat):\n",
    "        ax.imshow(images[i].reshape(img_shape), cmap = 'binary')\n",
    "        if cls_pred is None :\n",
    "            xlabel = \"True : {0}\".format(cls_true[i])\n",
    "        else\n",
    "            xlabel = \"True : {0} Pred : {1}\".format(cls_true[i], cls_pred[i])\n",
    "    ax.set_xlabel(xlabel)\n",
    "    ax.set_xticks([])\n",
    "    ax.set_yticks([])\n",
    "    plt.show()\n",
    "# plotting the first 9 images\n",
    "# images = data.x_test[0:9]\n",
    "# cls_true = data.y_test_cls[0:9]\n",
    "# plot_images(images, cls_true = cls_true)"
   ]
  },
  {
   "cell_type": "code",
   "execution_count": null,
   "metadata": {},
   "outputs": [],
   "source": [
    "#Initializing the placeholder variables \n",
    "x = tf.placeholder(tf.float32, [None, img_size_flat])\n",
    "y_true = tf.placeholder(tf.float32, [None, num_classes])\n",
    "y_true_cls = tf.placeholder(tf.int64, [None])\n",
    "#initializing the parameters\n",
    "weights = tf.Variable(tf.zeros[img_size_flat, num_classes])\n",
    "biases = tf.Variable(tf.zeros[num_classes])"
   ]
  },
  {
   "cell_type": "code",
   "execution_count": null,
   "metadata": {},
   "outputs": [],
   "source": [
    "#Model\n",
    "logits = tf.matmul(x, wights) + biases\n",
    "y_pred = tf.nn.softmax(logits)\n",
    "y_pred_cls = tf.argmax(y_pred, axis = 1)"
   ]
  },
  {
   "cell_type": "code",
   "execution_count": null,
   "metadata": {},
   "outputs": [],
   "source": [
    "#Cost Function\n",
    "cross_entropy = tf.nn.softmax_cross_entropy_with_logits_v2(logits = logits, labels = y_true)\n",
    "cost = tf.reduce_mean(cross_entropy)"
   ]
  },
  {
   "cell_type": "code",
   "execution_count": null,
   "metadata": {},
   "outputs": [],
   "source": [
    "#Optimizaation Method\n",
    "optimizer = tf.nn.GradientDescentOptimizer(learning_rate = 0.5).minimize(cost)\n",
    "correct_prediction = tf.equal(y_pred_cls, y_true_cls)\n",
    "accuracy = tf.reduce__mean(tf.cast(correct_prediction, tf.float32))"
   ]
  },
  {
   "cell_type": "code",
   "execution_count": null,
   "metadata": {},
   "outputs": [],
   "source": [
    "#Running the program\n",
    "session = tf.Session()\n",
    "session.run(tf.global_variables_initializer())\n",
    "batch_size = 100\n",
    "def optimize(num_iterations):\n",
    "    for i in range(num_iterations):\n",
    "        x_batch, y_true_batch, _ = data.random_batch(batch_size = batch_size)\n",
    "        feed_dict_train = {x: x_batch, y_true = y_true_batch}\n",
    "        session.run(optimizer, feed_dict = feed_dict_train)        "
   ]
  },
  {
   "cell_type": "code",
   "execution_count": null,
   "metadata": {},
   "outputs": [],
   "source": [
    "feed_dict_test = {x : data.x_test, y_true : data.y_true, y_true_cls = data.y_test_cls}\n",
    "#Function to print accuracy\n",
    "def print_accuracy() :\n",
    "    acc = session.run(accuracy, feed_dict = feed_dict_test)\n",
    "    print(\"The current accuracy is {0: .1%}\".format(acc))\n",
    "#Function to print confusion matrix\n",
    "def print_confusion_matrix() :\n",
    "    cls_true = data.y_test_cls\n",
    "    cls_pred = session.run(y_pred_cls, feed_dict = feed_dict_test)\n",
    "    cm = confusion_matrix(y_true = cls_true, y_pred = cls_pred)\n",
    "    print (cm)\n",
    "    plt.imshow(cm, interpolation = 'nearest', cmap = plt.cm.Blues)\n",
    "    plt.tight_layout()\n",
    "    plt.colorbar()\n",
    "    tick_marks = np.arange(num_classes)\n",
    "    plt.xticks(tick_marks, range(num_classes))\n",
    "    plt.yticks(tick_marks, range(num_classes))\n",
    "    plt.xlabel(\"Predicted\")\n",
    "    plt.ylabel(\"True\")\n",
    "    plt.show()\n",
    "#Function to print mislabeled examples\n",
    "def plot_example_errors() :\n",
    "    correct, class_pred = session.run([correct_prediction, y_pred_cls], feed_dict = feed_dict_test)\n",
    "    incorrect = (correct == False)\n",
    "    images = data.x_test[incorrect]\n",
    "    class_pred = class_pred[incorrect]\n",
    "    class_true = data.y_test_cls[incorrect]\n",
    "    plot_images(images[0:9], class_true = class_true[0:9], class_pred = class_pred[0:9])"
   ]
  },
  {
   "cell_type": "code",
   "execution_count": null,
   "metadata": {},
   "outputs": [],
   "source": [
    "#Function to plot the weights of each of the classes\n",
    "def plot_weights() :\n",
    "    w = session.run(weigths)\n",
    "    w_min = np.min(w)\n",
    "    w_max = np.max(w)\n",
    "    fig, axes = plt.subplot(3,4)\n",
    "    fig.subplots_adjust(hspace = 0.3, wspace = 0.3)\n",
    "    for i, ax in enumerate(axes.flat) :\n",
    "        if i<10:\n",
    "            image = w[:, i].reshape(img_shape)\n",
    "            ax.set_xlabel(\"Weigths : {0}\".format(i))\n",
    "            ax.imshow(image, vmin = w_min, wmax = w_max, cmap = \"seismic\")\n",
    "        ax.set_xticks([])\n",
    "        ax.set_yticks([])\n",
    "    plt.show()           "
   ]
  },
  {
   "cell_type": "code",
   "execution_count": null,
   "metadata": {},
   "outputs": [],
   "source": [
    "#Performance without any optimization\n",
    "print_accuaracy()\n",
    "plot_example_errors()\n",
    "plot_weigths()"
   ]
  },
  {
   "cell_type": "code",
   "execution_count": null,
   "metadata": {},
   "outputs": [],
   "source": [
    "#Performance after 1 iteration\n",
    "optimize(num_iterations = 1)\n",
    "print_accuracy()\n",
    "plot_example_errors()\n",
    "plot_weights()"
   ]
  },
  {
   "cell_type": "code",
   "execution_count": null,
   "metadata": {},
   "outputs": [],
   "source": [
    "#Performance after 100 iterations \n",
    "optimize(num_iterations = 100)\n",
    "print_accuracy()\n",
    "plot_example_errors()\n",
    "plot_weights()"
   ]
  },
  {
   "cell_type": "code",
   "execution_count": null,
   "metadata": {},
   "outputs": [],
   "source": [
    "#Performance after 1000 iterations \n",
    "optimize(num_iterations = 1000)\n",
    "print_accuracy()\n",
    "plot_example_errors()\n",
    "plot_weights()\n",
    "print_confusion_matrix()"
   ]
  }
 ],
 "metadata": {
  "kernelspec": {
   "display_name": "Python 2",
   "language": "python",
   "name": "python2"
  },
  "language_info": {
   "codemirror_mode": {
    "name": "ipython",
    "version": 2
   },
   "file_extension": ".py",
   "mimetype": "text/x-python",
   "name": "python",
   "nbconvert_exporter": "python",
   "pygments_lexer": "ipython2",
   "version": "2.7.15"
  }
 },
 "nbformat": 4,
 "nbformat_minor": 2
}
