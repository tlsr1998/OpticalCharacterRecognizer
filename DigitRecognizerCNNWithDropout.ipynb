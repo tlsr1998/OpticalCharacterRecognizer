{
  "nbformat": 4,
  "nbformat_minor": 0,
  "metadata": {
    "colab": {
      "name": "Untitled0.ipynb",
      "version": "0.3.2",
      "provenance": []
    },
    "kernelspec": {
      "name": "python3",
      "display_name": "Python 3"
    }
  },
  "cells": [
    {
      "metadata": {
        "id": "oYmbRbui_nlc",
        "colab_type": "code",
        "colab": {
          "base_uri": "https://localhost:8080/",
          "height": 143
        },
        "outputId": "c9a0796b-037a-44f8-fb15-5ec88cd75caa"
      },
      "cell_type": "code",
      "source": [
        "import os\n",
        "work_dir = \"/content/TensorFlow-Tutorials/\"\n",
        "if os.getcwd() != work_dir:\n",
        "    !git clone https://github.com/Hvass-Labs/TensorFlow-Tutorials.git\n",
        "os.chdir(work_dir)"
      ],
      "execution_count": 15,
      "outputs": [
        {
          "output_type": "stream",
          "text": [
            "Cloning into 'TensorFlow-Tutorials'...\n",
            "remote: Enumerating objects: 9, done.\u001b[K\n",
            "remote: Counting objects:  11% (1/9)   \u001b[K\rremote: Counting objects:  22% (2/9)   \u001b[K\rremote: Counting objects:  33% (3/9)   \u001b[K\rremote: Counting objects:  44% (4/9)   \u001b[K\rremote: Counting objects:  55% (5/9)   \u001b[K\rremote: Counting objects:  66% (6/9)   \u001b[K\rremote: Counting objects:  77% (7/9)   \u001b[K\rremote: Counting objects:  88% (8/9)   \u001b[K\rremote: Counting objects: 100% (9/9)   \u001b[K\rremote: Counting objects: 100% (9/9), done.\u001b[K\n",
            "remote: Compressing objects: 100% (7/7), done.\u001b[K\n",
            "remote: Total 459 (delta 2), reused 6 (delta 2), pack-reused 450\u001b[K\n",
            "Receiving objects: 100% (459/459), 62.79 MiB | 28.56 MiB/s, done.\n",
            "Resolving deltas: 100% (212/212), done.\n"
          ],
          "name": "stdout"
        }
      ]
    },
    {
      "metadata": {
        "id": "YbvK89emBHgI",
        "colab_type": "code",
        "colab": {}
      },
      "cell_type": "code",
      "source": [
        "import tensorflow as tf\n",
        "import matplotlib.pyplot as plt\n",
        "import numpy as np\n",
        "from mnist import MNIST\n",
        "from sklearn.metrics import confusion_matrix\n",
        "import math"
      ],
      "execution_count": 0,
      "outputs": []
    },
    {
      "metadata": {
        "id": "oQzTf615B5dw",
        "colab_type": "code",
        "colab": {}
      },
      "cell_type": "code",
      "source": [
        "filter_size1 = 5\n",
        "n_filters1 = 16\n",
        "filter_size2 = 5\n",
        "n_filters2 = 36\n",
        "fc_size = 128"
      ],
      "execution_count": 0,
      "outputs": []
    },
    {
      "metadata": {
        "id": "8gGSZW4TB9K6",
        "colab_type": "code",
        "colab": {}
      },
      "cell_type": "code",
      "source": [
        "from mnist import MNIST\n",
        "data = MNIST(data_dir = \"data/MNIST\")"
      ],
      "execution_count": 0,
      "outputs": []
    },
    {
      "metadata": {
        "id": "iZCn2r9jDGjj",
        "colab_type": "code",
        "colab": {}
      },
      "cell_type": "code",
      "source": [
        "img_size = data.img_size\n",
        "img_size_flat = data.img_size_flat\n",
        "img_shape = data.img_shape\n",
        "num_classes = data.num_classes\n",
        "num_channels = data.num_channels"
      ],
      "execution_count": 0,
      "outputs": []
    },
    {
      "metadata": {
        "id": "JWqSC7UsCFI5",
        "colab_type": "code",
        "colab": {
          "base_uri": "https://localhost:8080/",
          "height": 89
        },
        "outputId": "ecbb9179-ca68-41ec-8822-e165ba8744c2"
      },
      "cell_type": "code",
      "source": [
        "print(\"Size of: \")\n",
        "print(\"- Training Set: {0} \\t\\t\".format(data.num_train))\n",
        "print(\"- Test Set: {0} \\t\\t\".format(data.num_test))\n",
        "print(\"- Validation Set: {0} \\t\".format(data.num_val))"
      ],
      "execution_count": 20,
      "outputs": [
        {
          "output_type": "stream",
          "text": [
            "Size of: \n",
            "- Training Set: 55000 \t\t\n",
            "- Test Set: 10000 \t\t\n",
            "- Validation Set: 5000 \t\n"
          ],
          "name": "stdout"
        }
      ]
    },
    {
      "metadata": {
        "id": "EBgymoIiCKbr",
        "colab_type": "code",
        "colab": {}
      },
      "cell_type": "code",
      "source": [
        "def plot_images(images, cls_true, cls_pred = None):\n",
        "    assert len(images) == len(cls_true) == 9\n",
        "    fig, axes = plt.subplots(3,3)\n",
        "    fig.subplots_adjust(hspace = 0.3, wspace = 0.3)\n",
        "    \n",
        "    for i, ax in enumerate(axes.flat):\n",
        "        ax.imshow(images[i].reshape(img_shape), cmap = 'binary')\n",
        "        if cls_pred is None:\n",
        "            xlabel = \"True: {0}\".format(cls_true[i])\n",
        "        else:\n",
        "            xlabel = \"True: {0}, Predicted: {1}\".format(cls_true[i], cls_pred[i])\n",
        "        ax.set_xlabel(xlabel)    \n",
        "        ax.set_xticks([])\n",
        "        ax.set_yticks([])\n",
        "    \n",
        "    plt.show()    "
      ],
      "execution_count": 0,
      "outputs": []
    },
    {
      "metadata": {
        "id": "lGanguteCQqo",
        "colab_type": "code",
        "colab": {
          "base_uri": "https://localhost:8080/",
          "height": 345
        },
        "outputId": "800fa113-8c41-45d5-d1f9-467f5deca24c"
      },
      "cell_type": "code",
      "source": [
        "images = data.x_test[0:9]\n",
        "cls_true = data.y_test_cls[0:9]\n",
        "plot_images(images, cls_true)"
      ],
      "execution_count": 26,
      "outputs": [
        {
          "output_type": "display_data",
          "data": {
            "image/png": "[encoded data removed]",
            "text/plain": [
              "<matplotlib.figure.Figure at 0x7f0c8acfaf98>"
            ]
          },
          "metadata": {
            "tags": []
          }
        }
      ]
    },
    {
      "metadata": {
        "id": "a_-LiNYcChvo",
        "colab_type": "code",
        "colab": {}
      },
      "cell_type": "code",
      "source": [
        "def new_weights(shape):\n",
        "    return tf.Variable(tf.truncated_normal(shape, stddev = 0.05))"
      ],
      "execution_count": 0,
      "outputs": []
    },
    {
      "metadata": {
        "id": "jviIOLtzD_FY",
        "colab_type": "code",
        "colab": {}
      },
      "cell_type": "code",
      "source": [
        "def new_biases(length):\n",
        "    return tf.Variable(tf.constant(0.05, shape=[length]))"
      ],
      "execution_count": 0,
      "outputs": []
    },
    {
      "metadata": {
        "id": "gErGX7Z8EBft",
        "colab_type": "code",
        "colab": {}
      },
      "cell_type": "code",
      "source": [
        "def new_convlayer(input, num_input_channels, filter_size, num_filters, use_pooling = True):\n",
        "    shape = [filter_size, filter_size, num_input_channels, num_filters]\n",
        "    weights = new_weights(shape = shape)\n",
        "    biases = new_biases(num_filters)\n",
        "    layer = tf.nn.conv2d(input, filter = weights, strides = [1, 1, 1, 1], padding = 'SAME')\n",
        "    layer += biases\n",
        "    if use_pooling == True:\n",
        "        layer = tf.nn.max_pool(value = layer, ksize = [1, 2, 2, 1], strides = [1, 1, 1, 1], padding = 'SAME')\n",
        "    layer = tf.nn.relu(layer)    \n",
        "    return layer, weights"
      ],
      "execution_count": 0,
      "outputs": []
    },
    {
      "metadata": {
        "id": "5n3x5wpmED87",
        "colab_type": "code",
        "colab": {}
      },
      "cell_type": "code",
      "source": [
        "def flatten_layer(layer):\n",
        "    layer_shape = layer.get_shape()\n",
        "    num_features = layer_shape[1:4].num_elements()\n",
        "    layer_flat = tf.reshape(layer, [-1, num_features])\n",
        "    return layer_flat, num_features"
      ],
      "execution_count": 0,
      "outputs": []
    },
    {
      "metadata": {
        "id": "rIzlDaUdEJp_",
        "colab_type": "code",
        "colab": {}
      },
      "cell_type": "code",
      "source": [
        "def new_fc_layer(input, num_inputs, num_outputs, use_relu = True, drop_out = True):\n",
        "    shape = [num_inputs, num_outputs]\n",
        "    weights = new_weights(shape = shape)\n",
        "    biases = new_biases(length = num_outputs)\n",
        "    layer = tf.matmul(input, weights) + biases\n",
        "    if use_relu:\n",
        "        layer = tf.nn.relu(layer)\n",
        "    if drop_out:\n",
        "        layer = tf.nn.dropout(layer, keep_prob)   \n",
        "    return layer    "
      ],
      "execution_count": 0,
      "outputs": []
    },
    {
      "metadata": {
        "id": "_ATHQCDYEMxr",
        "colab_type": "code",
        "colab": {}
      },
      "cell_type": "code",
      "source": [
        "x = tf.placeholder(tf.float32, shape = [None, img_size_flat], name = 'x')\n",
        "x_image = tf.reshape(x, [-1, img_size, img_size, num_channels])\n",
        "keep_prob = tf.placeholder(tf.float32, shape = (), name = 'keep_prob')\n",
        "y_true = tf.placeholder(tf.float32, shape = [None, num_classes], name = 'y_true')\n",
        "y_true_cls = tf.argmax(y_true, axis = 1)"
      ],
      "execution_count": 0,
      "outputs": []
    },
    {
      "metadata": {
        "id": "dz7xGB3rEQDG",
        "colab_type": "code",
        "colab": {}
      },
      "cell_type": "code",
      "source": [
        "layer_conv1, weights_conv1 = new_convlayer(input = x_image, num_input_channels = num_channels, filter_size = filter_size1, num_filters = n_filters1, use_pooling = True)"
      ],
      "execution_count": 0,
      "outputs": []
    },
    {
      "metadata": {
        "id": "YhicjsvPEUqc",
        "colab_type": "code",
        "colab": {}
      },
      "cell_type": "code",
      "source": [
        "layer_conv2, weights_conv2 = new_convlayer(input = layer_conv1, num_input_channels = n_filters1, filter_size = filter_size2, num_filters = n_filters2, use_pooling = True)"
      ],
      "execution_count": 0,
      "outputs": []
    },
    {
      "metadata": {
        "id": "iZ7479u_GCrk",
        "colab_type": "code",
        "colab": {}
      },
      "cell_type": "code",
      "source": [
        "layer_flat, num_features = flatten_layer(layer_conv2)"
      ],
      "execution_count": 0,
      "outputs": []
    },
    {
      "metadata": {
        "id": "SQR5_SdCGHsu",
        "colab_type": "code",
        "colab": {}
      },
      "cell_type": "code",
      "source": [
        "layer_fc1 = new_fc_layer(input = layer_flat, num_inputs = num_features, num_outputs = fc_size, use_relu = True)"
      ],
      "execution_count": 0,
      "outputs": []
    },
    {
      "metadata": {
        "id": "mDTnGSc1GKic",
        "colab_type": "code",
        "colab": {}
      },
      "cell_type": "code",
      "source": [
        "layer_fc2 = new_fc_layer(input = layer_fc1, num_inputs = fc_size, num_outputs = num_classes, use_relu = False, drop_out = True)"
      ],
      "execution_count": 0,
      "outputs": []
    },
    {
      "metadata": {
        "id": "r1-4SC0FGita",
        "colab_type": "code",
        "colab": {}
      },
      "cell_type": "code",
      "source": [
        "y_pred = tf.nn.softmax(layer_fc2)\n",
        "y_pred_cls = tf.argmax(y_pred, axis = 1)"
      ],
      "execution_count": 0,
      "outputs": []
    },
    {
      "metadata": {
        "id": "ZQw1hPt5Gl1H",
        "colab_type": "code",
        "colab": {}
      },
      "cell_type": "code",
      "source": [
        "entropy = tf.nn.softmax_cross_entropy_with_logits(logits = layer_fc2, labels = y_true)\n",
        "cost = tf.reduce_mean(entropy)\n",
        "optimizer = tf.train.AdamOptimizer(learning_rate = 0.0001).minimize(cost)\n",
        "correct_prediction = tf.equal(y_pred_cls, y_true_cls)\n",
        "accuracy = tf.reduce_mean(tf.cast(correct_prediction, tf.float32))"
      ],
      "execution_count": 0,
      "outputs": []
    },
    {
      "metadata": {
        "id": "1vj8q3UEGqS1",
        "colab_type": "code",
        "colab": {}
      },
      "cell_type": "code",
      "source": [
        "sess = tf.Session()\n",
        "sess.run(tf.global_variables_initializer())\n",
        "train_batch_size = 64\n",
        "total_iterations = 0\n",
        "def optimize(num_iterations):\n",
        "    global total_iterations\n",
        "    for i in range(total_iterations, total_iterations + num_iterations):\n",
        "        x_batch, y_true_batch, _ = data.random_batch(batch_size = train_batch_size)\n",
        "        feed_dict_train = {x: x_batch, y_true: y_true_batch, keep_prob: 0.9}\n",
        "        sess.run(optimizer, feed_dict = feed_dict_train)\n",
        "        if i%100 == 0:\n",
        "            acc = sess.run(accuracy, feed_dict = feed_dict_train)\n",
        "            msg = \"Optimization Iteration: {0:>6}, Training Accuracy: {1:>6.1%}\"\n",
        "            print(msg.format(i+1, acc))\n",
        "    total_iterations += num_iterations        "
      ],
      "execution_count": 0,
      "outputs": []
    },
    {
      "metadata": {
        "id": "yCaRNWxUHZxI",
        "colab_type": "code",
        "colab": {}
      },
      "cell_type": "code",
      "source": [
        "def plot_example_errors(cls_pred, correct):\n",
        "    incorrect = (correct == False)\n",
        "    image = data.x_test[incorrect]\n",
        "    cls_pred = cls_pred[incorrect]\n",
        "    cls_true = data.y_test_cls[incorrect]\n",
        "    return plot_images(images = image[0:9], cls_true = cls_true[0:9], cls_pred = cls_pred[0:9])"
      ],
      "execution_count": 0,
      "outputs": []
    },
    {
      "metadata": {
        "id": "zehaD6yWHtZA",
        "colab_type": "code",
        "colab": {}
      },
      "cell_type": "code",
      "source": [
        "def print_confusion_matrix(cls_pred):\n",
        "    cls_true = data.y_test_cls\n",
        "    cm = confusion_matrix(y_true = cls_true, y_pred = cls_pred)\n",
        "    print(cm)\n",
        "    plt.matshow(cm)\n",
        "    plt.colorbar()\n",
        "    tick_marks = np.arange(num_classes)\n",
        "    plt.set_xticks(range(num_classes))\n",
        "    plt.set_yticks(range(num_classes))\n",
        "    plt.xlabel('Predicted')\n",
        "    plt.ylabel('True')\n",
        "    plt.show()"
      ],
      "execution_count": 0,
      "outputs": []
    },
    {
      "metadata": {
        "id": "NLiZt8ocHwGL",
        "colab_type": "code",
        "colab": {}
      },
      "cell_type": "code",
      "source": [
        "#Helper Function for showing the performance\n",
        "test_batch_size = 256\n",
        "def print_test_accuracy():\n",
        "    num_test = data.num_test\n",
        "    cls_pred = np.zeros(shape = num_test, dtype = np.int)\n",
        "    i = 0\n",
        "    while i < num_test:\n",
        "        j = min(i + test_batch_size, num_test)\n",
        "        images = data.x_test[i:j,:]\n",
        "        labels = data.y_test[i:j,:]\n",
        "        feed_dict = {x: images, y_true: labels, keep_prob: 1}\n",
        "        cls_pred[i:j] = sess.run(y_pred_cls, feed_dict = feed_dict)\n",
        "        i = j\n",
        "    cls_true = data.y_test_cls\n",
        "    correct = (cls_pred == cls_true)\n",
        "    correct_sum = correct.sum()\n",
        "    accuracy = float(correct_sum)/num_test\n",
        "    msg = \"Accuracy on test set: {0:.1%}({1}/{2})\"\n",
        "    print(msg.format(accuracy, correct_sum, num_test))"
      ],
      "execution_count": 0,
      "outputs": []
    },
    {
      "metadata": {
        "id": "X3XGw2PpH0ix",
        "colab_type": "code",
        "colab": {
          "base_uri": "https://localhost:8080/",
          "height": 35
        },
        "outputId": "068004d7-e3db-4798-ecaa-3f55da33ce87"
      },
      "cell_type": "code",
      "source": [
        "print_test_accuracy()"
      ],
      "execution_count": 165,
      "outputs": [
        {
          "output_type": "stream",
          "text": [
            "Accuracy on test set: 10.1%(1013/10000)\n"
          ],
          "name": "stdout"
        }
      ]
    },
    {
      "metadata": {
        "id": "g1bnS3WtH3H4",
        "colab_type": "code",
        "colab": {
          "base_uri": "https://localhost:8080/",
          "height": 53
        },
        "outputId": "613b2678-b52a-44a0-e48e-4e69126a9c90"
      },
      "cell_type": "code",
      "source": [
        "optimize(num_iterations = 1)\n",
        "print_test_accuracy()"
      ],
      "execution_count": 166,
      "outputs": [
        {
          "output_type": "stream",
          "text": [
            "Optimization Iteration:      1, Training Accuracy:  12.5%\n",
            "Accuracy on test set: 10.9%(1093/10000)\n"
          ],
          "name": "stdout"
        }
      ]
    },
    {
      "metadata": {
        "id": "tvAxpqt6Ikjv",
        "colab_type": "code",
        "colab": {
          "base_uri": "https://localhost:8080/",
          "height": 35
        },
        "outputId": "96fa4790-332c-4916-b663-1057d81fc833"
      },
      "cell_type": "code",
      "source": [
        "optimize(num_iterations = 99)\n",
        "print_test_accuracy()"
      ],
      "execution_count": 167,
      "outputs": [
        {
          "output_type": "stream",
          "text": [
            "Accuracy on test set: 84.3%(8429/10000)\n"
          ],
          "name": "stdout"
        }
      ]
    },
    {
      "metadata": {
        "id": "Dj6T0tfrI5LW",
        "colab_type": "code",
        "colab": {
          "base_uri": "https://localhost:8080/",
          "height": 197
        },
        "outputId": "55ac3f80-b805-4daf-a92a-ac1cf948e06d"
      },
      "cell_type": "code",
      "source": [
        "optimize(num_iterations = 900)\n",
        "print_test_accuracy()"
      ],
      "execution_count": 168,
      "outputs": [
        {
          "output_type": "stream",
          "text": [
            "Optimization Iteration:    101, Training Accuracy:  76.6%\n",
            "Optimization Iteration:    201, Training Accuracy:  68.8%\n",
            "Optimization Iteration:    301, Training Accuracy:  82.8%\n",
            "Optimization Iteration:    401, Training Accuracy:  85.9%\n",
            "Optimization Iteration:    501, Training Accuracy:  90.6%\n",
            "Optimization Iteration:    601, Training Accuracy:  89.1%\n",
            "Optimization Iteration:    701, Training Accuracy:  93.8%\n",
            "Optimization Iteration:    801, Training Accuracy:  87.5%\n",
            "Optimization Iteration:    901, Training Accuracy:  90.6%\n",
            "Accuracy on test set: 96.0%(9602/10000)\n"
          ],
          "name": "stdout"
        }
      ]
    },
    {
      "metadata": {
        "id": "a_vNGCMjJHs7",
        "colab_type": "code",
        "colab": {
          "base_uri": "https://localhost:8080/",
          "height": 1655
        },
        "outputId": "4c09ccc4-f369-45a4-fb77-f9abc26268c2"
      },
      "cell_type": "code",
      "source": [
        "optimize(num_iterations = 9000)\n",
        "print_test_accuracy()"
      ],
      "execution_count": 169,
      "outputs": [
        {
          "output_type": "stream",
          "text": [
            "Optimization Iteration:   1001, Training Accuracy:  92.2%\n",
            "Optimization Iteration:   1101, Training Accuracy:  93.8%\n",
            "Optimization Iteration:   1201, Training Accuracy:  87.5%\n",
            "Optimization Iteration:   1301, Training Accuracy:  96.9%\n",
            "Optimization Iteration:   1401, Training Accuracy:  92.2%\n",
            "Optimization Iteration:   1501, Training Accuracy:  87.5%\n",
            "Optimization Iteration:   1601, Training Accuracy:  95.3%\n",
            "Optimization Iteration:   1701, Training Accuracy:  93.8%\n",
            "Optimization Iteration:   1801, Training Accuracy:  92.2%\n",
            "Optimization Iteration:   1901, Training Accuracy:  95.3%\n",
            "Optimization Iteration:   2001, Training Accuracy:  98.4%\n",
            "Optimization Iteration:   2101, Training Accuracy:  96.9%\n",
            "Optimization Iteration:   2201, Training Accuracy:  93.8%\n",
            "Optimization Iteration:   2301, Training Accuracy:  96.9%\n",
            "Optimization Iteration:   2401, Training Accuracy:  90.6%\n",
            "Optimization Iteration:   2501, Training Accuracy:  92.2%\n",
            "Optimization Iteration:   2601, Training Accuracy:  98.4%\n",
            "Optimization Iteration:   2701, Training Accuracy:  96.9%\n",
            "Optimization Iteration:   2801, Training Accuracy:  96.9%\n",
            "Optimization Iteration:   2901, Training Accuracy:  96.9%\n",
            "Optimization Iteration:   3001, Training Accuracy:  89.1%\n",
            "Optimization Iteration:   3101, Training Accuracy:  95.3%\n",
            "Optimization Iteration:   3201, Training Accuracy:  90.6%\n",
            "Optimization Iteration:   3301, Training Accuracy:  95.3%\n",
            "Optimization Iteration:   3401, Training Accuracy:  95.3%\n",
            "Optimization Iteration:   3501, Training Accuracy:  92.2%\n",
            "Optimization Iteration:   3601, Training Accuracy:  92.2%\n",
            "Optimization Iteration:   3701, Training Accuracy:  92.2%\n",
            "Optimization Iteration:   3801, Training Accuracy:  92.2%\n",
            "Optimization Iteration:   3901, Training Accuracy:  96.9%\n",
            "Optimization Iteration:   4001, Training Accuracy:  96.9%\n",
            "Optimization Iteration:   4101, Training Accuracy:  95.3%\n",
            "Optimization Iteration:   4201, Training Accuracy:  92.2%\n",
            "Optimization Iteration:   4301, Training Accuracy:  95.3%\n",
            "Optimization Iteration:   4401, Training Accuracy:  95.3%\n",
            "Optimization Iteration:   4501, Training Accuracy:  95.3%\n",
            "Optimization Iteration:   4601, Training Accuracy:  93.8%\n",
            "Optimization Iteration:   4701, Training Accuracy:  92.2%\n",
            "Optimization Iteration:   4801, Training Accuracy:  90.6%\n",
            "Optimization Iteration:   4901, Training Accuracy: 100.0%\n",
            "Optimization Iteration:   5001, Training Accuracy:  93.8%\n",
            "Optimization Iteration:   5101, Training Accuracy:  89.1%\n",
            "Optimization Iteration:   5201, Training Accuracy:  92.2%\n",
            "Optimization Iteration:   5301, Training Accuracy:  93.8%\n",
            "Optimization Iteration:   5401, Training Accuracy:  82.8%\n",
            "Optimization Iteration:   5501, Training Accuracy:  95.3%\n",
            "Optimization Iteration:   5601, Training Accuracy:  93.8%\n",
            "Optimization Iteration:   5701, Training Accuracy:  96.9%\n",
            "Optimization Iteration:   5801, Training Accuracy:  95.3%\n",
            "Optimization Iteration:   5901, Training Accuracy:  93.8%\n",
            "Optimization Iteration:   6001, Training Accuracy:  98.4%\n",
            "Optimization Iteration:   6101, Training Accuracy:  89.1%\n",
            "Optimization Iteration:   6201, Training Accuracy:  95.3%\n",
            "Optimization Iteration:   6301, Training Accuracy:  96.9%\n",
            "Optimization Iteration:   6401, Training Accuracy:  98.4%\n",
            "Optimization Iteration:   6501, Training Accuracy:  95.3%\n",
            "Optimization Iteration:   6601, Training Accuracy:  96.9%\n",
            "Optimization Iteration:   6701, Training Accuracy:  95.3%\n",
            "Optimization Iteration:   6801, Training Accuracy:  92.2%\n",
            "Optimization Iteration:   6901, Training Accuracy:  98.4%\n",
            "Optimization Iteration:   7001, Training Accuracy:  95.3%\n",
            "Optimization Iteration:   7101, Training Accuracy:  95.3%\n",
            "Optimization Iteration:   7201, Training Accuracy:  95.3%\n",
            "Optimization Iteration:   7301, Training Accuracy:  95.3%\n",
            "Optimization Iteration:   7401, Training Accuracy:  89.1%\n",
            "Optimization Iteration:   7501, Training Accuracy:  98.4%\n",
            "Optimization Iteration:   7601, Training Accuracy:  95.3%\n",
            "Optimization Iteration:   7701, Training Accuracy:  93.8%\n",
            "Optimization Iteration:   7801, Training Accuracy:  96.9%\n",
            "Optimization Iteration:   7901, Training Accuracy:  92.2%\n",
            "Optimization Iteration:   8001, Training Accuracy:  98.4%\n",
            "Optimization Iteration:   8101, Training Accuracy:  98.4%\n",
            "Optimization Iteration:   8201, Training Accuracy:  96.9%\n",
            "Optimization Iteration:   8301, Training Accuracy:  95.3%\n",
            "Optimization Iteration:   8401, Training Accuracy:  93.8%\n",
            "Optimization Iteration:   8501, Training Accuracy:  93.8%\n",
            "Optimization Iteration:   8601, Training Accuracy:  96.9%\n",
            "Optimization Iteration:   8701, Training Accuracy:  96.9%\n",
            "Optimization Iteration:   8801, Training Accuracy:  89.1%\n",
            "Optimization Iteration:   8901, Training Accuracy: 100.0%\n",
            "Optimization Iteration:   9001, Training Accuracy:  96.9%\n",
            "Optimization Iteration:   9101, Training Accuracy:  98.4%\n",
            "Optimization Iteration:   9201, Training Accuracy:  95.3%\n",
            "Optimization Iteration:   9301, Training Accuracy:  96.9%\n",
            "Optimization Iteration:   9401, Training Accuracy:  95.3%\n",
            "Optimization Iteration:   9501, Training Accuracy:  95.3%\n",
            "Optimization Iteration:   9601, Training Accuracy:  95.3%\n",
            "Optimization Iteration:   9701, Training Accuracy:  96.9%\n",
            "Optimization Iteration:   9801, Training Accuracy:  96.9%\n",
            "Optimization Iteration:   9901, Training Accuracy:  96.9%\n",
            "Accuracy on test set: 99.0%(9903/10000)\n"
          ],
          "name": "stdout"
        }
      ]
    },
    {
      "metadata": {
        "id": "dDxrT32Pje7H",
        "colab_type": "code",
        "colab": {}
      },
      "cell_type": "code",
      "source": [
        ""
      ],
      "execution_count": 0,
      "outputs": []
    }
  ]
}