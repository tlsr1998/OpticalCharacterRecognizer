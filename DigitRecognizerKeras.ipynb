{
  "nbformat": 4,
  "nbformat_minor": 0,
  "metadata": {
    "colab": {
      "name": "Untitled1.ipynb",
      "version": "0.3.2",
      "provenance": []
    },
    "kernelspec": {
      "name": "python3",
      "display_name": "Python 3"
    }
  },
  "cells": [
    {
      "metadata": {
        "id": "GG-t8ZF9O3t3",
        "colab_type": "code",
        "colab": {
          "base_uri": "https://localhost:8080/",
          "height": 147
        },
        "outputId": "de98fedf-58cb-4347-9f39-8f681d00d184"
      },
      "cell_type": "code",
      "source": [
        "import os\n",
        "work_dir = \"/content/TensorFlow-Tutorials/\"\n",
        "if os.getcwd() != work_dir:\n",
        "  !git clone https://github.com/Hvass-Labs/TensorFlow-Tutorials.git\n",
        "os.chdir(work_dir)    \n",
        "import matplotlib.pyplot as plt\n",
        "import tensorflow as tf\n",
        "import numpy as np\n",
        "from mnist import MNIST\n",
        "import math"
      ],
      "execution_count": 2,
      "outputs": [
        {
          "output_type": "stream",
          "text": [
            "Cloning into 'TensorFlow-Tutorials'...\n",
            "remote: Enumerating objects: 9, done.\u001b[K\n",
            "remote: Counting objects:  11% (1/9)   \u001b[K\rremote: Counting objects:  22% (2/9)   \u001b[K\rremote: Counting objects:  33% (3/9)   \u001b[K\rremote: Counting objects:  44% (4/9)   \u001b[K\rremote: Counting objects:  55% (5/9)   \u001b[K\rremote: Counting objects:  66% (6/9)   \u001b[K\rremote: Counting objects:  77% (7/9)   \u001b[K\rremote: Counting objects:  88% (8/9)   \u001b[K\rremote: Counting objects: 100% (9/9)   \u001b[K\rremote: Counting objects: 100% (9/9), done.\u001b[K\n",
            "remote: Compressing objects: 100% (7/7), done.\u001b[K\n",
            "remote: Total 459 (delta 2), reused 6 (delta 2), pack-reused 450\u001b[K\n",
            "Receiving objects: 100% (459/459), 62.79 MiB | 32.39 MiB/s, done.\n",
            "Resolving deltas: 100% (212/212), done.\n"
          ],
          "name": "stdout"
        }
      ]
    },
    {
      "metadata": {
        "id": "E3JMmvrHQkhn",
        "colab_type": "code",
        "colab": {
          "base_uri": "https://localhost:8080/",
          "height": 165
        },
        "outputId": "4adc3fe5-a5c1-46aa-aaf8-f44396e5636c"
      },
      "cell_type": "code",
      "source": [
        "data = MNIST(data_dir = \"/data/MNIST\")"
      ],
      "execution_count": 3,
      "outputs": [
        {
          "output_type": "stream",
          "text": [
            "Downloading train-images-idx3-ubyte.gz ...\n",
            "- Download progress: 100.0% Done!\n",
            "Downloading train-labels-idx1-ubyte.gz ...\n",
            "- Download progress: 100.0% Done!\n",
            "Downloading t10k-images-idx3-ubyte.gz ...\n",
            "- Download progress: 100.0% Done!\n",
            "Downloading t10k-labels-idx1-ubyte.gz ...\n",
            "- Download progress: 100.0% Done!\n"
          ],
          "name": "stdout"
        }
      ]
    },
    {
      "metadata": {
        "id": "GtpHHKEcRDee",
        "colab_type": "code",
        "colab": {}
      },
      "cell_type": "code",
      "source": [
        "from tensorflow.python.keras.models import Sequential\n",
        "from tensorflow.python.keras.layers import Input, InputLayer\n",
        "from tensorflow.python.keras.layers import MaxPooling2D, Reshape\n",
        "from tensorflow.python.keras.layers import Conv2D, Flatten, Dense, Dropout"
      ],
      "execution_count": 0,
      "outputs": []
    },
    {
      "metadata": {
        "id": "2v4cXPs6R5f4",
        "colab_type": "code",
        "colab": {
          "base_uri": "https://localhost:8080/",
          "height": 91
        },
        "outputId": "a205f6d1-e126-4abc-ab6d-0d7932c3088d"
      },
      "cell_type": "code",
      "source": [
        "print(\"Size of: \")\n",
        "print(\"- Training Set: {0} \\t\\t\".format(data.num_train))\n",
        "print(\"- Test Set: {0} \\t\\t\".format(data.num_test))\n",
        "print(\"- Validation Set: {0} \\t\".format(data.num_val))"
      ],
      "execution_count": 29,
      "outputs": [
        {
          "output_type": "stream",
          "text": [
            "Size of: \n",
            "- Training Set: 55000 \t\t\n",
            "- Test Set: 10000 \t\t\n",
            "- Validation Set: 5000 \t\n"
          ],
          "name": "stdout"
        }
      ]
    },
    {
      "metadata": {
        "id": "tRHCE4bvSCBW",
        "colab_type": "code",
        "colab": {}
      },
      "cell_type": "code",
      "source": [
        "img_size = data.img_size\n",
        "img_size_flat = data.img_size_flat\n",
        "img_shape = data.img_shape\n",
        "img_shape_full = data.img_shape_full\n",
        "num_classes = data.num_classes\n",
        "num_channels = data.num_channels"
      ],
      "execution_count": 0,
      "outputs": []
    },
    {
      "metadata": {
        "id": "yXCDGMMkSjFK",
        "colab_type": "code",
        "colab": {}
      },
      "cell_type": "code",
      "source": [
        "def plot_images(images, cls_true, cls_pred = None):\n",
        "  assert len(images) == len(cls_true) == 9\n",
        "  fig, axes = plt.subplots(3,3)\n",
        "  fig.subplots_adjust(hspace = 0.3, wspace = 0.3)\n",
        "  for i, ax in enumerate(axes.flat):\n",
        "    ax.imshow(images[i].reshape(img_shape), cmap = 'binary')\n",
        "    if cls_pred is None:\n",
        "      xlabel = \"True: {0}\".format(cls_true[i])\n",
        "    else:\n",
        "      xlabel = \"True: {0}, Pred: {1}\".format(cls_true[i], cls_pred[i])\n",
        "    ax.set_xlabel(xlabel)\n",
        "    ax.set_xticks([])\n",
        "    ax.set_yticks([])\n",
        "  plt.show()"
      ],
      "execution_count": 0,
      "outputs": []
    },
    {
      "metadata": {
        "id": "BnY4zNW_VNeT",
        "colab_type": "code",
        "colab": {
          "base_uri": "https://localhost:8080/",
          "height": 344
        },
        "outputId": "7b1be71d-f4a8-41a9-e65b-bde0c5969a16"
      },
      "cell_type": "code",
      "source": [
        "images = data.x_test[0:9]\n",
        "cls_true = data.y_test_cls[0:9]\n",
        "plot_images(images = images, cls_true = cls_true)"
      ],
      "execution_count": 32,
      "outputs": [
        {
          "output_type": "display_data",
          "data": {
            "image/png": "[encoded data removed]",
            "text/plain": [
              "<matplotlib.figure.Figure at 0x7f62f4b064a8>"
            ]
          },
          "metadata": {
            "tags": []
          }
        }
      ]
    },
    {
      "metadata": {
        "id": "3aEEG0SUqWd_",
        "colab_type": "code",
        "colab": {}
      },
      "cell_type": "code",
      "source": [
        "def plot_wrong_examples(cls_pred):\n",
        "  incorrect = (cls_pred != data.y_test_cls)\n",
        "  images = data.x_test[incorrect]\n",
        "  cls_true = data.y_test_cls[incorrect]\n",
        "  cls_pred = cls_pred[incorrect]\n",
        "  plot_images(images = images[0:9], cls_true = cls_true[0:9], cls_pred = cls_pred[0:9])"
      ],
      "execution_count": 0,
      "outputs": []
    },
    {
      "metadata": {
        "id": "tmzq9wuEWZb3",
        "colab_type": "code",
        "colab": {}
      },
      "cell_type": "code",
      "source": [
        "model = Sequential()\n",
        "model.add(InputLayer(input_shape = (img_size_flat,)))\n",
        "model.add(Reshape(img_shape_full))\n",
        "model.add(Conv2D(kernel_size = 5, strides = 1, filters = 16, padding = 'SAME', activation = 'relu', name = 'conv_layer1'))\n",
        "model.add(MaxPooling2D(pool_size = 2, strides = 2))\n",
        "model.add(Conv2D(kernel_size = 5, strides = 1, filters = 36, padding = 'SAME', activation = 'relu', name = 'conv_layer2'))\n",
        "model.add(MaxPooling2D(pool_size = 2, strides = 2))\n",
        "model.add(Flatten())\n",
        "model.add(Dense(128, activation = 'relu'))\n",
        "model.add(Dropout(0.9))\n",
        "model.add(Dense(10, activation = 'softmax'))         "
      ],
      "execution_count": 0,
      "outputs": []
    },
    {
      "metadata": {
        "id": "v_nBZLEJY6ni",
        "colab_type": "code",
        "colab": {}
      },
      "cell_type": "code",
      "source": [
        "from tensorflow.python.keras.optimizers import Adam\n",
        "optimizer = Adam(lr = 0.001)"
      ],
      "execution_count": 0,
      "outputs": []
    },
    {
      "metadata": {
        "id": "8tYX60o7ZrM5",
        "colab_type": "code",
        "colab": {}
      },
      "cell_type": "code",
      "source": [
        "model.compile(optimizer = optimizer, loss = 'categorical_crossentropy', metrics = ['accuracy'])"
      ],
      "execution_count": 0,
      "outputs": []
    },
    {
      "metadata": {
        "id": "LqmVnEsna51Z",
        "colab_type": "code",
        "colab": {
          "base_uri": "https://localhost:8080/",
          "height": 72
        },
        "outputId": "027a4c76-3be3-461d-a456-94ca1f541e83"
      },
      "cell_type": "code",
      "source": [
        "model.fit(x = data.x_train, y = data.y_train, epochs = 1, batch_size = 128)"
      ],
      "execution_count": 43,
      "outputs": [
        {
          "output_type": "stream",
          "text": [
            "Epoch 1/1\n",
            "55000/55000 [==============================] - 77s 1ms/step - loss: 1.0398 - acc: 0.6016\n"
          ],
          "name": "stdout"
        },
        {
          "output_type": "execute_result",
          "data": {
            "text/plain": [
              "<tensorflow.python.keras.callbacks.History at 0x7f62f463cc18>"
            ]
          },
          "metadata": {
            "tags": []
          },
          "execution_count": 43
        }
      ]
    },
    {
      "metadata": {
        "id": "qQOaTMEkbVAq",
        "colab_type": "code",
        "colab": {
          "base_uri": "https://localhost:8080/",
          "height": 35
        },
        "outputId": "6da769b9-2d47-4527-83da-cd8e80b55918"
      },
      "cell_type": "code",
      "source": [
        "result = model.evaluate(x = data.x_test, y = data.y_test)"
      ],
      "execution_count": 44,
      "outputs": [
        {
          "output_type": "stream",
          "text": [
            "10000/10000 [==============================] - 6s 615us/step\n"
          ],
          "name": "stdout"
        }
      ]
    },
    {
      "metadata": {
        "id": "3ggR83AwnsWV",
        "colab_type": "code",
        "colab": {
          "base_uri": "https://localhost:8080/",
          "height": 54
        },
        "outputId": "04feb457-be1c-4abb-dba7-478ca8f51e08"
      },
      "cell_type": "code",
      "source": [
        "for name, value in zip(model.metrics_names, result):\n",
        "  print(name, value)\n",
        "#print({0}: {1: .2%}.format(model_metrics_names[1], result[1]))  "
      ],
      "execution_count": 45,
      "outputs": [
        {
          "output_type": "stream",
          "text": [
            "loss 0.11492919553890825\n",
            "acc 0.9692\n"
          ],
          "name": "stdout"
        }
      ]
    },
    {
      "metadata": {
        "id": "GeoID290n_px",
        "colab_type": "code",
        "colab": {
          "base_uri": "https://localhost:8080/",
          "height": 344
        },
        "outputId": "9b6f8a30-0e6a-4a56-83b4-504fb4fbc436"
      },
      "cell_type": "code",
      "source": [
        "images = data.x_test[0:9]\n",
        "cls_true = data.y_test_cls[0:9]\n",
        "y_pred = model.predict(x = images)\n",
        "cls_pred = np.argmax(y_pred, axis = 1)\n",
        "plot_images(images, cls_true = cls_true, cls_pred = cls_pred)"
      ],
      "execution_count": 16,
      "outputs": [
        {
          "output_type": "display_data",
          "data": {
            "image/png": "[encoded data removed]",
            "text/plain": [
              "<matplotlib.figure.Figure at 0x7f62fb012d30>"
            ]
          },
          "metadata": {
            "tags": []
          }
        }
      ]
    },
    {
      "metadata": {
        "id": "6jYmSq1UpQ-D",
        "colab_type": "code",
        "colab": {
          "base_uri": "https://localhost:8080/",
          "height": 344
        },
        "outputId": "ab953a81-6def-4f03-a221-583057bc6780"
      },
      "cell_type": "code",
      "source": [
        "images = data.x_test\n",
        "cls_true = data.y_test_cls\n",
        "y_pred = model.predict(x = images)\n",
        "cls_pred = np.argmax(y_pred, axis = 1)\n",
        "plot_wrong_examples(cls_pred)"
      ],
      "execution_count": 17,
      "outputs": [
        {
          "output_type": "display_data",
          "data": {
            "image/png": "[encoded data removed]",
            "text/plain": [
              "<matplotlib.figure.Figure at 0x7f62f7b60a20>"
            ]
          },
          "metadata": {
            "tags": []
          }
        }
      ]
    },
    {
      "metadata": {
        "id": "a8v8W4Lfr2Q9",
        "colab_type": "code",
        "colab": {}
      },
      "cell_type": "code",
      "source": [
        "# #Functional Keras Model\n",
        "inputs = Input(shape = (img_size_flat,))\n",
        "net = inputs\n",
        "net = Reshape(img_shape_full)(net)\n",
        "net = Conv2D(kernel_size = 5, strides = 1, filters = 16, padding = 'same', activation = 'relu', name = 'conv_layer1')(net)\n",
        "net = MaxPooling2D(pool_size = 2, strides = 2)(net)\n",
        "net = Conv2D(kernel_size = 5, strides = 1, filters = 36, padding = 'same', activation = 'relu', name = 'conv_layer2')(net)\n",
        "net = MaxPooling2D(pool_size = 2, strides = 2)(net)\n",
        "net = Flatten()(net)\n",
        "net = Dense(128, activation = 'relu')(net)\n",
        "net = Dense(num_classes, activation = 'softmax')(net)\n",
        "outputs = net"
      ],
      "execution_count": 0,
      "outputs": []
    },
    {
      "metadata": {
        "id": "azXjDbH4uJ71",
        "colab_type": "code",
        "colab": {}
      },
      "cell_type": "code",
      "source": [
        "from tensorflow.python.keras.models import Model\n",
        "model2 = Model(inputs = inputs, outputs = outputs)\n",
        "model2.compile(optimizer = 'rmsprop', loss = 'categorical_crossentropy', metrics = ['accuracy'])"
      ],
      "execution_count": 0,
      "outputs": []
    },
    {
      "metadata": {
        "id": "wTohWSocwPsg",
        "colab_type": "code",
        "colab": {
          "base_uri": "https://localhost:8080/",
          "height": 72
        },
        "outputId": "0742b290-d2a1-4812-9667-aa17b320588e"
      },
      "cell_type": "code",
      "source": [
        "model2.fit(x = data.x_train, y = data.y_train, epochs = 1, batch_size = 128)"
      ],
      "execution_count": 20,
      "outputs": [
        {
          "output_type": "stream",
          "text": [
            "Epoch 1/1\n",
            "55000/55000 [==============================] - 78s 1ms/step - loss: 0.2092 - acc: 0.9361\n"
          ],
          "name": "stdout"
        },
        {
          "output_type": "execute_result",
          "data": {
            "text/plain": [
              "<tensorflow.python.keras.callbacks.History at 0x7f62f7b603c8>"
            ]
          },
          "metadata": {
            "tags": []
          },
          "execution_count": 20
        }
      ]
    },
    {
      "metadata": {
        "id": "YzIjnDmRwhpK",
        "colab_type": "code",
        "colab": {
          "base_uri": "https://localhost:8080/",
          "height": 35
        },
        "outputId": "0228cf7e-7304-40a6-db0d-c6f56730123c"
      },
      "cell_type": "code",
      "source": [
        "result = model2.evaluate(x = data.x_test, y = data.y_test)"
      ],
      "execution_count": 21,
      "outputs": [
        {
          "output_type": "stream",
          "text": [
            "10000/10000 [==============================] - 6s 621us/step\n"
          ],
          "name": "stdout"
        }
      ]
    },
    {
      "metadata": {
        "id": "gcrYJJmRJCvK",
        "colab_type": "code",
        "colab": {
          "base_uri": "https://localhost:8080/",
          "height": 54
        },
        "outputId": "977da777-3fc0-466c-af10-7b3a3cd1fe5f"
      },
      "cell_type": "code",
      "source": [
        "for name, value in zip(model2.metrics_names, result):\n",
        "  print(name, value)"
      ],
      "execution_count": 23,
      "outputs": [
        {
          "output_type": "stream",
          "text": [
            "loss 0.07040035724705085\n",
            "acc 0.9753\n"
          ],
          "name": "stdout"
        }
      ]
    },
    {
      "metadata": {
        "id": "LZ9oB25LKevV",
        "colab_type": "code",
        "colab": {
          "base_uri": "https://localhost:8080/",
          "height": 344
        },
        "outputId": "9a2cb612-cc94-4eaa-b4b5-4c3aa57cfe54"
      },
      "cell_type": "code",
      "source": [
        "y_pred = model2.predict(x = data.x_test)\n",
        "cls__pred = np.argmax(y_pred, axis = 1)\n",
        "plot_wrong_examples(cls_pred)"
      ],
      "execution_count": 25,
      "outputs": [
        {
          "output_type": "display_data",
          "data": {
            "image/png": "[encoded data removed]",
            "text/plain": [
              "<matplotlib.figure.Figure at 0x7f62f52f42b0>"
            ]
          },
          "metadata": {
            "tags": []
          }
        }
      ]
    }
  ]
}